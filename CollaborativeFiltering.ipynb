{
 "cells": [
  {
   "cell_type": "markdown",
   "id": "3b358f4d",
   "metadata": {},
   "source": [
    "# Collaborative Filtering Recommendation System"
   ]
  },
  {
   "cell_type": "markdown",
   "id": "92f5635b",
   "metadata": {},
   "source": [
    "> In this project, you’ll use Jupyter Notebook, a web-based integrated development environment for Python as well as various Python libraries to create a recommendation system. The dataset is also available in the same directory as the Jupyter file. Every task in the project has one or more associated cells in the notebook"
   ]
  },
  {
   "cell_type": "markdown",
   "id": "55eedac4",
   "metadata": {},
   "source": [
    "## Task 1: Import Modules"
   ]
  },
  {
   "cell_type": "markdown",
   "id": "04dff034",
   "metadata": {},
   "source": [
    "- First, import all the libraries you’ll need for the project. You’ll need the following libraries:\n",
    "\n",
    "- pandas: To store and manage data\n",
    "numpy: To handle all the numerical values in the dataset\n",
    "sklearn: To create the recommendation system\n",
    "cosine_similarity from sklearn.metrics.pairwise: To create a cosine similarity matrix"
   ]
  },
  {
   "cell_type": "code",
   "execution_count": 16,
   "id": "54298d2c",
   "metadata": {},
   "outputs": [],
   "source": [
    "import pandas as pd \n",
    "import numpy as np \n",
    "import sklearn\n",
    "from sklearn.metrics.pairwise import cosine_similarity"
   ]
  },
  {
   "cell_type": "markdown",
   "id": "5c8e83a3",
   "metadata": {},
   "source": [
    "## Task 2: Import the Dataset"
   ]
  },
  {
   "cell_type": "markdown",
   "id": "73c0dd61",
   "metadata": {},
   "source": [
    "- The dataset for this project is a [https://grouplens.org/datasets/movielens/100k], of which we are using two files: The dataset for this project is the MovieLens dataset. You’ll use the following two files from the dataset:\n",
    "\n",
    "- For this task, import and load the dataset into a DataFrame as follows:\n",
    "\n",
    "- Load Movie_data.csv and Movie_Id_Titles.csv in DataFrames.\n",
    "Join the DataFrames on Movie_ID.\n",
    "View the first five rows of the merged DataFrame."
   ]
  },
  {
   "cell_type": "code",
   "execution_count": 17,
   "id": "d156bf6c-dc28-4815-a8b3-14aad8bcaac6",
   "metadata": {},
   "outputs": [],
   "source": [
    "#Load the rating data into a DataFrame:\n",
    "column_names = ['User_ID', 'User_Names','Movie_ID','Rating','Timestamp']\n",
    "movies_df = pd.read_csv('Movie_data.csv', sep = ',', names = column_names)"
   ]
  },
  {
   "cell_type": "code",
   "execution_count": 18,
   "id": "12c93b0c-b080-454f-aba4-1eab097d1e6b",
   "metadata": {},
   "outputs": [],
   "source": [
    "#Load the move information in a DataFrame:\n",
    "movies_title_df = pd.read_csv(\"Movie_id_Titles-1.csv\")\n",
    "movies_title_df.rename(columns = {'item_id':'Movie_ID', 'title':'Movie_Title'}, inplace = True)"
   ]
  },
  {
   "cell_type": "code",
   "execution_count": 19,
   "id": "0dd3cbfc",
   "metadata": {},
   "outputs": [
    {
     "name": "stdout",
     "output_type": "stream",
     "text": [
      "   User_ID        User_Names  Movie_ID  Rating  Timestamp       Movie_Title\n",
      "0        0      Shawn Wilson        50       5  881250949  Star Wars (1977)\n",
      "1       22     Robert Poulin        50       5  878887765  Star Wars (1977)\n",
      "2      244      Laura Krulik        50       5  880604379  Star Wars (1977)\n",
      "3      298      Loren Aucoin        50       5  884125578  Star Wars (1977)\n",
      "4      115  Dominick Jenkins        50       5  881172049  Star Wars (1977)\n"
     ]
    }
   ],
   "source": [
    "#Merge the DataFrames:\n",
    "movies_df = pd.merge(movies_df,movies_title_df, on='Movie_ID')\n",
    "\n",
    "#View the DataFrame:\n",
    "print(movies_df.head())"
   ]
  },
  {
   "cell_type": "markdown",
   "id": "4ecd7f73",
   "metadata": {},
   "source": [
    "## Task 3: Explore the Dataset"
   ]
  },
  {
   "cell_type": "markdown",
   "id": "4f9236e2",
   "metadata": {},
   "source": [
    "- This project uses the dataset to create recommendations based on user similarity. The dataset should have sufficient ratings from the users to make good recommendations. For this task, explore the dataset and do the following:\n",
    "\n",
    "- Get the dimensions of the DataFrame.\n",
    "- Get the statistical summary of the DataFrame.\n",
    "- Find the number of ratings given by each user.\n",
    "- Store the number of unique movies and users for the next task."
   ]
  },
  {
   "cell_type": "code",
   "execution_count": 20,
   "id": "8dfd4237",
   "metadata": {},
   "outputs": [
    {
     "name": "stdout",
     "output_type": "stream",
     "text": [
      "\n",
      " Size of the movie_df dataset is (100003, 6)\n"
     ]
    }
   ],
   "source": [
    "print(f\"\\n Size of the movie_df dataset is {movies_df.shape}\")"
   ]
  },
  {
   "cell_type": "code",
   "execution_count": 21,
   "id": "6b635bcf",
   "metadata": {},
   "outputs": [
    {
     "data": {
      "text/html": [
       "<div>\n",
       "<style scoped>\n",
       "    .dataframe tbody tr th:only-of-type {\n",
       "        vertical-align: middle;\n",
       "    }\n",
       "\n",
       "    .dataframe tbody tr th {\n",
       "        vertical-align: top;\n",
       "    }\n",
       "\n",
       "    .dataframe thead th {\n",
       "        text-align: right;\n",
       "    }\n",
       "</style>\n",
       "<table border=\"1\" class=\"dataframe\">\n",
       "  <thead>\n",
       "    <tr style=\"text-align: right;\">\n",
       "      <th></th>\n",
       "      <th>User_ID</th>\n",
       "      <th>Movie_ID</th>\n",
       "      <th>Rating</th>\n",
       "      <th>Timestamp</th>\n",
       "    </tr>\n",
       "  </thead>\n",
       "  <tbody>\n",
       "    <tr>\n",
       "      <th>count</th>\n",
       "      <td>100003.000000</td>\n",
       "      <td>100003.000000</td>\n",
       "      <td>100003.000000</td>\n",
       "      <td>1.000030e+05</td>\n",
       "    </tr>\n",
       "    <tr>\n",
       "      <th>mean</th>\n",
       "      <td>462.470876</td>\n",
       "      <td>425.520914</td>\n",
       "      <td>3.529864</td>\n",
       "      <td>8.835288e+08</td>\n",
       "    </tr>\n",
       "    <tr>\n",
       "      <th>std</th>\n",
       "      <td>266.622454</td>\n",
       "      <td>330.797791</td>\n",
       "      <td>1.125704</td>\n",
       "      <td>5.343791e+06</td>\n",
       "    </tr>\n",
       "    <tr>\n",
       "      <th>min</th>\n",
       "      <td>0.000000</td>\n",
       "      <td>1.000000</td>\n",
       "      <td>1.000000</td>\n",
       "      <td>8.747247e+08</td>\n",
       "    </tr>\n",
       "    <tr>\n",
       "      <th>25%</th>\n",
       "      <td>254.000000</td>\n",
       "      <td>175.000000</td>\n",
       "      <td>3.000000</td>\n",
       "      <td>8.794487e+08</td>\n",
       "    </tr>\n",
       "    <tr>\n",
       "      <th>50%</th>\n",
       "      <td>447.000000</td>\n",
       "      <td>322.000000</td>\n",
       "      <td>4.000000</td>\n",
       "      <td>8.828269e+08</td>\n",
       "    </tr>\n",
       "    <tr>\n",
       "      <th>75%</th>\n",
       "      <td>682.000000</td>\n",
       "      <td>631.000000</td>\n",
       "      <td>4.000000</td>\n",
       "      <td>8.882600e+08</td>\n",
       "    </tr>\n",
       "    <tr>\n",
       "      <th>max</th>\n",
       "      <td>943.000000</td>\n",
       "      <td>1682.000000</td>\n",
       "      <td>5.000000</td>\n",
       "      <td>8.932866e+08</td>\n",
       "    </tr>\n",
       "  </tbody>\n",
       "</table>\n",
       "</div>"
      ],
      "text/plain": [
       "             User_ID       Movie_ID         Rating     Timestamp\n",
       "count  100003.000000  100003.000000  100003.000000  1.000030e+05\n",
       "mean      462.470876     425.520914       3.529864  8.835288e+08\n",
       "std       266.622454     330.797791       1.125704  5.343791e+06\n",
       "min         0.000000       1.000000       1.000000  8.747247e+08\n",
       "25%       254.000000     175.000000       3.000000  8.794487e+08\n",
       "50%       447.000000     322.000000       4.000000  8.828269e+08\n",
       "75%       682.000000     631.000000       4.000000  8.882600e+08\n",
       "max       943.000000    1682.000000       5.000000  8.932866e+08"
      ]
     },
     "execution_count": 21,
     "metadata": {},
     "output_type": "execute_result"
    }
   ],
   "source": [
    "movies_df.describe()"
   ]
  },
  {
   "cell_type": "code",
   "execution_count": 22,
   "id": "81c12e2d",
   "metadata": {},
   "outputs": [
    {
     "data": {
      "text/plain": [
       "User_ID\n",
       "0       3\n",
       "166    20\n",
       "418    20\n",
       "34     20\n",
       "441    20\n",
       "Name: Rating, dtype: int64"
      ]
     },
     "execution_count": 22,
     "metadata": {},
     "output_type": "execute_result"
    }
   ],
   "source": [
    "movies_df.groupby('User_ID')['Rating'].count().sort_values(ascending = True).head()"
   ]
  },
  {
   "cell_type": "code",
   "execution_count": 23,
   "id": "81d3a346",
   "metadata": {},
   "outputs": [
    {
     "name": "stdout",
     "output_type": "stream",
     "text": [
      "944 users\n",
      "1682 movies\n"
     ]
    }
   ],
   "source": [
    "n_users = movies_df.User_ID.unique().shape[0]\n",
    "n_movies = movies_df.Movie_ID.unique().shape[0]\n",
    "print( str(n_users) + ' users')\n",
    "print( str(n_movies) + ' movies')"
   ]
  },
  {
   "cell_type": "markdown",
   "id": "63d71396",
   "metadata": {},
   "source": [
    "## Task 4: Create an Interaction Matrix"
   ]
  },
  {
   "cell_type": "markdown",
   "id": "9b3a5e3a",
   "metadata": {},
   "source": [
    "To create a collaborative filtering recommendation system, you need an interaction matrix to represent the relationship of every user with every movie in terms of ratings.\n",
    "\n",
    "For this task, create a 2D array of nxm dimensions where n is the number of users and m is the number of movies. Next, place the ratings from DataFrame in the array."
   ]
  },
  {
   "cell_type": "code",
   "execution_count": 24,
   "id": "8d5161f2",
   "metadata": {},
   "outputs": [
    {
     "name": "stdout",
     "output_type": "stream",
     "text": [
      "[[0. 0. 0. ... 0. 0. 0.]\n",
      " [5. 3. 4. ... 0. 0. 0.]\n",
      " [4. 0. 0. ... 0. 0. 0.]\n",
      " ...\n",
      " [5. 0. 0. ... 0. 0. 0.]\n",
      " [0. 0. 0. ... 0. 0. 0.]\n",
      " [0. 5. 0. ... 0. 0. 0.]]\n"
     ]
    }
   ],
   "source": [
    "#This would be a 2D array matrix to display user-movie_rating relationship\n",
    "#Rows represent users by IDs, columns represent movies by IDs\n",
    "ratings = np.zeros((n_users, n_movies))\n",
    "for row in movies_df.itertuples():\n",
    "    ratings[row[1], row[3]-1] = row[4]\n",
    "\n",
    "# View the matrix\n",
    "print(ratings)"
   ]
  },
  {
   "cell_type": "markdown",
   "id": "e2e125ce",
   "metadata": {},
   "source": [
    "## Task 5: Explore the Interaction Matrix"
   ]
  },
  {
   "cell_type": "markdown",
   "id": "7156a6f8",
   "metadata": {},
   "source": [
    "One of the main characteristics of an interaction matrix is its density, which helps it provide good recommendations. The density of a dataset directly impacts the quality of the recommendations.\n",
    "\n",
    "For this task, calculate the sparsity of the interaction matrix."
   ]
  },
  {
   "cell_type": "code",
   "execution_count": 25,
   "id": "79ccdaa3",
   "metadata": {},
   "outputs": [
    {
     "name": "stdout",
     "output_type": "stream",
     "text": [
      "6.298179628771237\n"
     ]
    }
   ],
   "source": [
    "sparsity = float(len(ratings.nonzero()[0]))\n",
    "sparsity /= (ratings.shape[0] * ratings.shape[1])\n",
    "sparsity *= 100\n",
    "print(sparsity)"
   ]
  },
  {
   "cell_type": "markdown",
   "id": "177b3424",
   "metadata": {},
   "source": [
    "## Task 6 : Create a Similarity Matrix"
   ]
  },
  {
   "cell_type": "markdown",
   "id": "e17e8abd",
   "metadata": {},
   "source": [
    "User-user collaborative filtering is based on finding the similarity among users.\n",
    "\n",
    "For this task, use cosine similarity to find the similarity among users."
   ]
  },
  {
   "cell_type": "code",
   "execution_count": 26,
   "id": "8a0eac12",
   "metadata": {},
   "outputs": [],
   "source": [
    "rating_cosine_similarity = cosine_similarity(ratings)"
   ]
  },
  {
   "cell_type": "markdown",
   "id": "9c6b9d12",
   "metadata": {},
   "source": [
    "## Task 7: Provide Recommendations"
   ]
  },
  {
   "cell_type": "markdown",
   "id": "ec1a5397",
   "metadata": {},
   "source": [
    "Now that the cosine similarity matrix has been created, the system can recommend movies to the users according to their taste.\n",
    "\n",
    "For this task, create a function that receives a user’s ID. Then, do the following to give movie recommendations to the user:\n",
    "\n",
    "Find the k most similar users. Let’s assume k=10.\n",
    "Find the average rating of the movies rated by these k users.\n",
    "Find the top 10 rated movies."
   ]
  },
  {
   "cell_type": "code",
   "execution_count": 27,
   "id": "5313790a",
   "metadata": {},
   "outputs": [],
   "source": [
    "def movie_recommender(user_item_m, X_user, user, k=10, top_n=10):\n",
    "    # Get the location of the actual user in the User-Items matrix\n",
    "    # Use it to index the User similarity matrix\n",
    "    user_similarities = X_user[user]\n",
    "    # obtain the indices of the top k most similar users\n",
    "    most_similar_users = user_item_m.index[user_similarities.argpartition(-k)[-k:]]\n",
    "    # Obtain the mean ratings of those users for all movies\n",
    "    rec_movies = user_item_m.loc[most_similar_users].mean(0).sort_values(ascending=False)\n",
    "    # Discard already seen movies\n",
    "    m_seen_movies = user_item_m.loc[user].gt(0)\n",
    "    seen_movies = m_seen_movies.index[m_seen_movies].tolist()\n",
    "    rec_movies = rec_movies.drop(seen_movies).head(top_n)\n",
    "    # return recommendations - top similar users rated movies\n",
    "    rec_movies_a=rec_movies.index.to_frame().reset_index(drop=True)\n",
    "    rec_movies_a.rename(columns={rec_movies_a.columns[0]: 'Movie_ID'}, inplace=True)\n",
    "    return rec_movies_a"
   ]
  },
  {
   "cell_type": "markdown",
   "id": "545d69a8",
   "metadata": {},
   "source": [
    "## Task 8: View the Provided Recommendations "
   ]
  },
  {
   "cell_type": "markdown",
   "id": "25d8a065",
   "metadata": {},
   "source": [
    "For this task, run the function created in the previous task and view the recommendations provided to a user through the created system.\n",
    "\n",
    "To complete this task, ensure the arguments provided to the function have the required data type to call the function"
   ]
  },
  {
   "cell_type": "code",
   "execution_count": 28,
   "id": "3e1b7cf5",
   "metadata": {},
   "outputs": [],
   "source": [
    "#Converting the 2D array into a DataFrame as expected by the movie_recommender function\n",
    "ratings_df=pd.DataFrame(ratings)"
   ]
  },
  {
   "cell_type": "code",
   "execution_count": 29,
   "id": "ee1b66d6",
   "metadata": {},
   "outputs": [
    {
     "data": {
      "text/html": [
       "<div>\n",
       "<style scoped>\n",
       "    .dataframe tbody tr th:only-of-type {\n",
       "        vertical-align: middle;\n",
       "    }\n",
       "\n",
       "    .dataframe tbody tr th {\n",
       "        vertical-align: top;\n",
       "    }\n",
       "\n",
       "    .dataframe thead th {\n",
       "        text-align: right;\n",
       "    }\n",
       "</style>\n",
       "<table border=\"1\" class=\"dataframe\">\n",
       "  <thead>\n",
       "    <tr style=\"text-align: right;\">\n",
       "      <th></th>\n",
       "      <th>Movie_ID</th>\n",
       "    </tr>\n",
       "  </thead>\n",
       "  <tbody>\n",
       "    <tr>\n",
       "      <th>0</th>\n",
       "      <td>180</td>\n",
       "    </tr>\n",
       "    <tr>\n",
       "      <th>1</th>\n",
       "      <td>209</td>\n",
       "    </tr>\n",
       "    <tr>\n",
       "      <th>2</th>\n",
       "      <td>495</td>\n",
       "    </tr>\n",
       "    <tr>\n",
       "      <th>3</th>\n",
       "      <td>422</td>\n",
       "    </tr>\n",
       "    <tr>\n",
       "      <th>4</th>\n",
       "      <td>172</td>\n",
       "    </tr>\n",
       "    <tr>\n",
       "      <th>5</th>\n",
       "      <td>384</td>\n",
       "    </tr>\n",
       "    <tr>\n",
       "      <th>6</th>\n",
       "      <td>78</td>\n",
       "    </tr>\n",
       "    <tr>\n",
       "      <th>7</th>\n",
       "      <td>567</td>\n",
       "    </tr>\n",
       "    <tr>\n",
       "      <th>8</th>\n",
       "      <td>565</td>\n",
       "    </tr>\n",
       "    <tr>\n",
       "      <th>9</th>\n",
       "      <td>21</td>\n",
       "    </tr>\n",
       "  </tbody>\n",
       "</table>\n",
       "</div>"
      ],
      "text/plain": [
       "   Movie_ID\n",
       "0       180\n",
       "1       209\n",
       "2       495\n",
       "3       422\n",
       "4       172\n",
       "5       384\n",
       "6        78\n",
       "7       567\n",
       "8       565\n",
       "9        21"
      ]
     },
     "execution_count": 29,
     "metadata": {},
     "output_type": "execute_result"
    }
   ],
   "source": [
    "user_ID=12\n",
    "movie_recommender(ratings_df, rating_cosine_similarity,user_ID)"
   ]
  },
  {
   "cell_type": "markdown",
   "id": "ab7a7ac8",
   "metadata": {},
   "source": [
    "## Task 9: Create Wrapper Function"
   ]
  },
  {
   "cell_type": "markdown",
   "id": "b3392f46",
   "metadata": {},
   "source": [
    "This project aims to create an application that receives a User ID and provides all the recommendations for that specific user. For this, the recommendation function created in the Jupyter Notebook should be callable in a Python file via another function, i.e., a wrapper function.\n",
    "\n",
    "For this task, perform the following operations:\n",
    "\n",
    "Create another function, movie_recommender_run, that takes the user’s name and calls the recommendation function with the respective user ID.\n",
    "Use the output of the function call and return the list of recommendations in the form of Movie_ID and Movie_Title from movie_recommender_run.\n",
    "Save the notebook you’re working in to make it is usable in the next tasks."
   ]
  },
  {
   "cell_type": "code",
   "execution_count": 30,
   "id": "29865730",
   "metadata": {},
   "outputs": [],
   "source": [
    "def movie_recommender_run(user_Name):\n",
    "    #Get ID from Name\n",
    "    user_ID=movies_df.loc[movies_df['User_Names'] == user_Name].User_ID.values[0]\n",
    "    #Call the function\n",
    "    temp=movie_recommender(ratings_df, rating_cosine_similarity, user_ID)\n",
    "    # Join with the movie_title_df to get the movie titles\n",
    "    top_k_rec=temp.merge(movies_title_df, how='inner')\n",
    "    return top_k_rec "
   ]
  }
 ],
 "metadata": {
  "kernelspec": {
   "display_name": "Python 3 (ipykernel)",
   "language": "python",
   "name": "python3"
  },
  "language_info": {
   "codemirror_mode": {
    "name": "ipython",
    "version": 3
   },
   "file_extension": ".py",
   "mimetype": "text/x-python",
   "name": "python",
   "nbconvert_exporter": "python",
   "pygments_lexer": "ipython3",
   "version": "3.11.7"
  }
 },
 "nbformat": 4,
 "nbformat_minor": 5
}
